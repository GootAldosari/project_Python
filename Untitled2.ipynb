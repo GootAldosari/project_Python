{
 "cells": [
  {
   "cell_type": "code",
   "execution_count": 5,
   "id": "8feae53c-472c-4e04-b74c-39d06a1b251e",
   "metadata": {},
   "outputs": [],
   "source": [
    "import pandas as pd\n",
    "import numpy as np\n",
    "import matplotlib.pyplot as plt\n",
    "import seaborn as sns"
   ]
  },
  {
   "cell_type": "markdown",
   "id": "36798e72-87f4-4f90-821a-fe913e7bf6a1",
   "metadata": {},
   "source": [
    "استدعاء المكتبات"
   ]
  },
  {
   "cell_type": "code",
   "execution_count": 6,
   "id": "83a0e3c6-b663-40f9-9828-c493142f4384",
   "metadata": {},
   "outputs": [],
   "source": [
    "df=pd.read_csv('fake_customer_data_with_errors.csv')"
   ]
  },
  {
   "cell_type": "markdown",
   "id": "e255f0c9-c3a7-4ebc-b0b0-f38b2913349d",
   "metadata": {},
   "source": [
    "تخزين البيانات"
   ]
  },
  {
   "cell_type": "code",
   "execution_count": 7,
   "id": "d62df48e-7f66-48d1-887d-57eef7dfd919",
   "metadata": {},
   "outputs": [
    {
     "data": {
      "text/html": [
       "<div>\n",
       "<style scoped>\n",
       "    .dataframe tbody tr th:only-of-type {\n",
       "        vertical-align: middle;\n",
       "    }\n",
       "\n",
       "    .dataframe tbody tr th {\n",
       "        vertical-align: top;\n",
       "    }\n",
       "\n",
       "    .dataframe thead th {\n",
       "        text-align: right;\n",
       "    }\n",
       "</style>\n",
       "<table border=\"1\" class=\"dataframe\">\n",
       "  <thead>\n",
       "    <tr style=\"text-align: right;\">\n",
       "      <th></th>\n",
       "      <th>CustomerID</th>\n",
       "      <th>Name</th>\n",
       "      <th>Age</th>\n",
       "      <th>Gender</th>\n",
       "      <th>Email</th>\n",
       "      <th>Phone</th>\n",
       "      <th>PurchaseAmount</th>\n",
       "      <th>PurchaseDate</th>\n",
       "      <th>ProductCategory</th>\n",
       "      <th>Rating</th>\n",
       "      <th>Unnamed</th>\n",
       "      <th>Gender</th>\n",
       "    </tr>\n",
       "  </thead>\n",
       "  <tbody>\n",
       "    <tr>\n",
       "      <th>0</th>\n",
       "      <td>CUST1000</td>\n",
       "      <td>Ali Hassan</td>\n",
       "      <td>72.0</td>\n",
       "      <td>NaN</td>\n",
       "      <td>ali.hassan@gmail.com</td>\n",
       "      <td>123456789.0</td>\n",
       "      <td>837.31</td>\n",
       "      <td>10/12/2023</td>\n",
       "      <td>Books</td>\n",
       "      <td>3.0</td>\n",
       "      <td>NaN</td>\n",
       "      <td>NaN</td>\n",
       "    </tr>\n",
       "    <tr>\n",
       "      <th>1</th>\n",
       "      <td>CUST1001</td>\n",
       "      <td>Fatma Ali</td>\n",
       "      <td>NaN</td>\n",
       "      <td>Female</td>\n",
       "      <td>fatma.ali@hotmail.com</td>\n",
       "      <td>NaN</td>\n",
       "      <td>900.25</td>\n",
       "      <td>2/23/2023</td>\n",
       "      <td>NaN</td>\n",
       "      <td>3.0</td>\n",
       "      <td>NaN</td>\n",
       "      <td>Female</td>\n",
       "    </tr>\n",
       "    <tr>\n",
       "      <th>2</th>\n",
       "      <td>CUST1002</td>\n",
       "      <td>Ahmed Mahmoud</td>\n",
       "      <td>-1.0</td>\n",
       "      <td>male</td>\n",
       "      <td>ahmed.mahmoud@hotmail.com</td>\n",
       "      <td>NaN</td>\n",
       "      <td>761.72</td>\n",
       "      <td>7/7/2023</td>\n",
       "      <td>Toys</td>\n",
       "      <td>2.0</td>\n",
       "      <td>NaN</td>\n",
       "      <td>male</td>\n",
       "    </tr>\n",
       "    <tr>\n",
       "      <th>3</th>\n",
       "      <td>CUST1003</td>\n",
       "      <td>Ahmed Gaber</td>\n",
       "      <td>-1.0</td>\n",
       "      <td>F</td>\n",
       "      <td>ahmed.gaber@gmail.com</td>\n",
       "      <td>NaN</td>\n",
       "      <td>303.72</td>\n",
       "      <td>12/30/2023</td>\n",
       "      <td>NaN</td>\n",
       "      <td>2.0</td>\n",
       "      <td>NaN</td>\n",
       "      <td>F</td>\n",
       "    </tr>\n",
       "    <tr>\n",
       "      <th>4</th>\n",
       "      <td>CUST1004</td>\n",
       "      <td>Ali Ibrahim</td>\n",
       "      <td>73.0</td>\n",
       "      <td>M</td>\n",
       "      <td>ali.ibrahim@yahoo.com</td>\n",
       "      <td>987654321.0</td>\n",
       "      <td>635.81</td>\n",
       "      <td>12/7/2023</td>\n",
       "      <td>Clothing</td>\n",
       "      <td>2.0</td>\n",
       "      <td>NaN</td>\n",
       "      <td>M</td>\n",
       "    </tr>\n",
       "  </tbody>\n",
       "</table>\n",
       "</div>"
      ],
      "text/plain": [
       "  CustomerID           Name   Age  Gender                      Email  \\\n",
       "0   CUST1000     Ali Hassan  72.0     NaN       ali.hassan@gmail.com   \n",
       "1   CUST1001      Fatma Ali   NaN  Female      fatma.ali@hotmail.com   \n",
       "2   CUST1002  Ahmed Mahmoud  -1.0    male  ahmed.mahmoud@hotmail.com   \n",
       "3   CUST1003    Ahmed Gaber  -1.0       F      ahmed.gaber@gmail.com   \n",
       "4   CUST1004    Ali Ibrahim  73.0       M      ali.ibrahim@yahoo.com   \n",
       "\n",
       "         Phone  PurchaseAmount PurchaseDate ProductCategory  Rating  Unnamed  \\\n",
       "0  123456789.0          837.31   10/12/2023           Books     3.0      NaN   \n",
       "1          NaN          900.25    2/23/2023             NaN     3.0      NaN   \n",
       "2          NaN          761.72     7/7/2023            Toys     2.0      NaN   \n",
       "3          NaN          303.72   12/30/2023             NaN     2.0      NaN   \n",
       "4  987654321.0          635.81    12/7/2023        Clothing     2.0      NaN   \n",
       "\n",
       "    Gender    \n",
       "0        NaN  \n",
       "1     Female  \n",
       "2       male  \n",
       "3          F  \n",
       "4          M  "
      ]
     },
     "execution_count": 7,
     "metadata": {},
     "output_type": "execute_result"
    }
   ],
   "source": [
    "df.head()"
   ]
  },
  {
   "cell_type": "code",
   "execution_count": 8,
   "id": "c8935b7f-5a26-41b8-ac0d-b144033e567e",
   "metadata": {},
   "outputs": [
    {
     "data": {
      "text/html": [
       "<div>\n",
       "<style scoped>\n",
       "    .dataframe tbody tr th:only-of-type {\n",
       "        vertical-align: middle;\n",
       "    }\n",
       "\n",
       "    .dataframe tbody tr th {\n",
       "        vertical-align: top;\n",
       "    }\n",
       "\n",
       "    .dataframe thead th {\n",
       "        text-align: right;\n",
       "    }\n",
       "</style>\n",
       "<table border=\"1\" class=\"dataframe\">\n",
       "  <thead>\n",
       "    <tr style=\"text-align: right;\">\n",
       "      <th></th>\n",
       "      <th>CustomerID</th>\n",
       "      <th>Name</th>\n",
       "      <th>Age</th>\n",
       "      <th>Gender</th>\n",
       "      <th>Email</th>\n",
       "      <th>Phone</th>\n",
       "      <th>PurchaseAmount</th>\n",
       "      <th>PurchaseDate</th>\n",
       "      <th>ProductCategory</th>\n",
       "      <th>Rating</th>\n",
       "      <th>Unnamed</th>\n",
       "      <th>Gender</th>\n",
       "    </tr>\n",
       "  </thead>\n",
       "  <tbody>\n",
       "    <tr>\n",
       "      <th>2145</th>\n",
       "      <td>CUST1447</td>\n",
       "      <td>Mark Mahmoud</td>\n",
       "      <td>66.0</td>\n",
       "      <td>male</td>\n",
       "      <td>mark.mahmoud@hotmail.com</td>\n",
       "      <td>987654321.0</td>\n",
       "      <td>462.47</td>\n",
       "      <td>8/4/2023</td>\n",
       "      <td>Toys</td>\n",
       "      <td>5.0</td>\n",
       "      <td>NaN</td>\n",
       "      <td>male</td>\n",
       "    </tr>\n",
       "    <tr>\n",
       "      <th>2146</th>\n",
       "      <td>CUST1381</td>\n",
       "      <td>Fatma Hassan</td>\n",
       "      <td>NaN</td>\n",
       "      <td>M</td>\n",
       "      <td>fatma.hassan@yahoo.com</td>\n",
       "      <td>NaN</td>\n",
       "      <td>237.62</td>\n",
       "      <td>1/28/2024</td>\n",
       "      <td>Toys</td>\n",
       "      <td>5.0</td>\n",
       "      <td>NaN</td>\n",
       "      <td>M</td>\n",
       "    </tr>\n",
       "    <tr>\n",
       "      <th>2147</th>\n",
       "      <td>CUST2338</td>\n",
       "      <td>Ali Gaber</td>\n",
       "      <td>-1.0</td>\n",
       "      <td>M</td>\n",
       "      <td>ali.gaber@gmail.com</td>\n",
       "      <td>NaN</td>\n",
       "      <td>174.72</td>\n",
       "      <td>9/29/2024</td>\n",
       "      <td>Books</td>\n",
       "      <td>NaN</td>\n",
       "      <td>NaN</td>\n",
       "      <td>M</td>\n",
       "    </tr>\n",
       "    <tr>\n",
       "      <th>2148</th>\n",
       "      <td>CUST1694</td>\n",
       "      <td>John Ali</td>\n",
       "      <td>30.0</td>\n",
       "      <td>Female</td>\n",
       "      <td>john.ali@yahoo.com</td>\n",
       "      <td>987654321.0</td>\n",
       "      <td>250.47</td>\n",
       "      <td>2/5/2024</td>\n",
       "      <td>NaN</td>\n",
       "      <td>5.0</td>\n",
       "      <td>NaN</td>\n",
       "      <td>Female</td>\n",
       "    </tr>\n",
       "    <tr>\n",
       "      <th>2149</th>\n",
       "      <td>CUST1567</td>\n",
       "      <td>Ahmed Hassan</td>\n",
       "      <td>NaN</td>\n",
       "      <td>male</td>\n",
       "      <td>ahmed.hassan@yahoo.com</td>\n",
       "      <td>123456789.0</td>\n",
       "      <td>891.41</td>\n",
       "      <td>10/13/2023</td>\n",
       "      <td>Clothing</td>\n",
       "      <td>3.0</td>\n",
       "      <td>NaN</td>\n",
       "      <td>male</td>\n",
       "    </tr>\n",
       "  </tbody>\n",
       "</table>\n",
       "</div>"
      ],
      "text/plain": [
       "     CustomerID          Name   Age  Gender                     Email  \\\n",
       "2145   CUST1447  Mark Mahmoud  66.0    male  mark.mahmoud@hotmail.com   \n",
       "2146   CUST1381  Fatma Hassan   NaN       M    fatma.hassan@yahoo.com   \n",
       "2147   CUST2338     Ali Gaber  -1.0       M       ali.gaber@gmail.com   \n",
       "2148   CUST1694      John Ali  30.0  Female        john.ali@yahoo.com   \n",
       "2149   CUST1567  Ahmed Hassan   NaN    male    ahmed.hassan@yahoo.com   \n",
       "\n",
       "            Phone  PurchaseAmount PurchaseDate ProductCategory  Rating  \\\n",
       "2145  987654321.0          462.47     8/4/2023            Toys     5.0   \n",
       "2146          NaN          237.62    1/28/2024            Toys     5.0   \n",
       "2147          NaN          174.72    9/29/2024           Books     NaN   \n",
       "2148  987654321.0          250.47     2/5/2024             NaN     5.0   \n",
       "2149  123456789.0          891.41   10/13/2023        Clothing     3.0   \n",
       "\n",
       "      Unnamed   Gender    \n",
       "2145      NaN       male  \n",
       "2146      NaN          M  \n",
       "2147      NaN          M  \n",
       "2148      NaN     Female  \n",
       "2149      NaN       male  "
      ]
     },
     "execution_count": 8,
     "metadata": {},
     "output_type": "execute_result"
    }
   ],
   "source": [
    "df.tail()"
   ]
  },
  {
   "cell_type": "code",
   "execution_count": 9,
   "id": "8e20f48e-3756-4378-bb15-eff50542f42a",
   "metadata": {},
   "outputs": [
    {
     "data": {
      "text/html": [
       "<div>\n",
       "<style scoped>\n",
       "    .dataframe tbody tr th:only-of-type {\n",
       "        vertical-align: middle;\n",
       "    }\n",
       "\n",
       "    .dataframe tbody tr th {\n",
       "        vertical-align: top;\n",
       "    }\n",
       "\n",
       "    .dataframe thead th {\n",
       "        text-align: right;\n",
       "    }\n",
       "</style>\n",
       "<table border=\"1\" class=\"dataframe\">\n",
       "  <thead>\n",
       "    <tr style=\"text-align: right;\">\n",
       "      <th></th>\n",
       "      <th>CustomerID</th>\n",
       "      <th>Name</th>\n",
       "      <th>Age</th>\n",
       "      <th>Gender</th>\n",
       "      <th>Email</th>\n",
       "      <th>Phone</th>\n",
       "      <th>PurchaseAmount</th>\n",
       "      <th>PurchaseDate</th>\n",
       "      <th>ProductCategory</th>\n",
       "      <th>Rating</th>\n",
       "      <th>Unnamed</th>\n",
       "      <th>Gender</th>\n",
       "    </tr>\n",
       "  </thead>\n",
       "  <tbody>\n",
       "    <tr>\n",
       "      <th>1265</th>\n",
       "      <td>CUST2265</td>\n",
       "      <td>Sara Ali</td>\n",
       "      <td>30.0</td>\n",
       "      <td>Female</td>\n",
       "      <td>sara.ali@gmail.com</td>\n",
       "      <td>123456789.0</td>\n",
       "      <td>475.61</td>\n",
       "      <td>7/17/2025</td>\n",
       "      <td>Home</td>\n",
       "      <td>10.0</td>\n",
       "      <td>NaN</td>\n",
       "      <td>Female</td>\n",
       "    </tr>\n",
       "    <tr>\n",
       "      <th>38</th>\n",
       "      <td>CUST1038</td>\n",
       "      <td>Lina Gaber</td>\n",
       "      <td>46.0</td>\n",
       "      <td>female</td>\n",
       "      <td>lina.gaber@hotmail.com</td>\n",
       "      <td>123456789.0</td>\n",
       "      <td>273.77</td>\n",
       "      <td>1/30/2023</td>\n",
       "      <td>Electronics</td>\n",
       "      <td>3.0</td>\n",
       "      <td>NaN</td>\n",
       "      <td>female</td>\n",
       "    </tr>\n",
       "    <tr>\n",
       "      <th>1935</th>\n",
       "      <td>CUST2935</td>\n",
       "      <td>Lina Gaber</td>\n",
       "      <td>79.0</td>\n",
       "      <td>Male</td>\n",
       "      <td>lina.gaber@gmail.com</td>\n",
       "      <td>123456789.0</td>\n",
       "      <td>958.57</td>\n",
       "      <td>12/2/2022</td>\n",
       "      <td>NaN</td>\n",
       "      <td>3.0</td>\n",
       "      <td>NaN</td>\n",
       "      <td>Male</td>\n",
       "    </tr>\n",
       "    <tr>\n",
       "      <th>1574</th>\n",
       "      <td>CUST2574</td>\n",
       "      <td>Sara Mahmoud</td>\n",
       "      <td>44.0</td>\n",
       "      <td>female</td>\n",
       "      <td>sara.mahmoud@yahoo.com</td>\n",
       "      <td>123456789.0</td>\n",
       "      <td>790.69</td>\n",
       "      <td>10/21/2024</td>\n",
       "      <td>Toys</td>\n",
       "      <td>3.0</td>\n",
       "      <td>NaN</td>\n",
       "      <td>female</td>\n",
       "    </tr>\n",
       "    <tr>\n",
       "      <th>177</th>\n",
       "      <td>CUST1177</td>\n",
       "      <td>John Ali</td>\n",
       "      <td>NaN</td>\n",
       "      <td>F</td>\n",
       "      <td>john.ali@hotmail.com</td>\n",
       "      <td>123456789.0</td>\n",
       "      <td>563.54</td>\n",
       "      <td>4/14/2025</td>\n",
       "      <td>Toys</td>\n",
       "      <td>5.0</td>\n",
       "      <td>NaN</td>\n",
       "      <td>F</td>\n",
       "    </tr>\n",
       "  </tbody>\n",
       "</table>\n",
       "</div>"
      ],
      "text/plain": [
       "     CustomerID          Name   Age  Gender                   Email  \\\n",
       "1265   CUST2265      Sara Ali  30.0  Female      sara.ali@gmail.com   \n",
       "38     CUST1038    Lina Gaber  46.0  female  lina.gaber@hotmail.com   \n",
       "1935   CUST2935    Lina Gaber  79.0    Male    lina.gaber@gmail.com   \n",
       "1574   CUST2574  Sara Mahmoud  44.0  female  sara.mahmoud@yahoo.com   \n",
       "177    CUST1177      John Ali   NaN       F    john.ali@hotmail.com   \n",
       "\n",
       "            Phone  PurchaseAmount PurchaseDate ProductCategory  Rating  \\\n",
       "1265  123456789.0          475.61    7/17/2025            Home    10.0   \n",
       "38    123456789.0          273.77    1/30/2023     Electronics     3.0   \n",
       "1935  123456789.0          958.57    12/2/2022             NaN     3.0   \n",
       "1574  123456789.0          790.69   10/21/2024            Toys     3.0   \n",
       "177   123456789.0          563.54    4/14/2025            Toys     5.0   \n",
       "\n",
       "      Unnamed   Gender    \n",
       "1265      NaN     Female  \n",
       "38        NaN     female  \n",
       "1935      NaN       Male  \n",
       "1574      NaN     female  \n",
       "177       NaN          F  "
      ]
     },
     "execution_count": 9,
     "metadata": {},
     "output_type": "execute_result"
    }
   ],
   "source": [
    "df.sample(5)"
   ]
  },
  {
   "cell_type": "code",
   "execution_count": 9,
   "id": "40258494-6612-4ab6-a37b-61d7070f32d6",
   "metadata": {},
   "outputs": [
    {
     "data": {
      "text/plain": [
       "(2150, 12)"
      ]
     },
     "execution_count": 9,
     "metadata": {},
     "output_type": "execute_result"
    }
   ],
   "source": [
    "df.shape"
   ]
  },
  {
   "cell_type": "code",
   "execution_count": 12,
   "id": "f806a16c-494b-4812-b5a6-836dc875b161",
   "metadata": {},
   "outputs": [
    {
     "data": {
      "text/plain": [
       "Index(['CustomerID', 'Name', 'Age', 'Gender', 'Email', 'Phone',\n",
       "       'PurchaseAmount', 'PurchaseDate', 'ProductCategory', 'Rating',\n",
       "       'Unnamed', '  Gender  '],\n",
       "      dtype='object')"
      ]
     },
     "execution_count": 12,
     "metadata": {},
     "output_type": "execute_result"
    }
   ],
   "source": [
    "df.columns"
   ]
  },
  {
   "cell_type": "code",
   "execution_count": 10,
   "id": "691461c6-c772-4e9c-a708-cbd0e1f44e22",
   "metadata": {},
   "outputs": [
    {
     "data": {
      "text/plain": [
       "<bound method DataFrame.info of      CustomerID           Name   Age  Gender                      Email  \\\n",
       "0      CUST1000     Ali Hassan  72.0     NaN       ali.hassan@gmail.com   \n",
       "1      CUST1001      Fatma Ali   NaN  Female      fatma.ali@hotmail.com   \n",
       "2      CUST1002  Ahmed Mahmoud  -1.0    male  ahmed.mahmoud@hotmail.com   \n",
       "3      CUST1003    Ahmed Gaber  -1.0       F      ahmed.gaber@gmail.com   \n",
       "4      CUST1004    Ali Ibrahim  73.0       M      ali.ibrahim@yahoo.com   \n",
       "...         ...            ...   ...     ...                        ...   \n",
       "2145   CUST1447   Mark Mahmoud  66.0    male   mark.mahmoud@hotmail.com   \n",
       "2146   CUST1381   Fatma Hassan   NaN       M     fatma.hassan@yahoo.com   \n",
       "2147   CUST2338      Ali Gaber  -1.0       M        ali.gaber@gmail.com   \n",
       "2148   CUST1694       John Ali  30.0  Female         john.ali@yahoo.com   \n",
       "2149   CUST1567   Ahmed Hassan   NaN    male     ahmed.hassan@yahoo.com   \n",
       "\n",
       "            Phone  PurchaseAmount PurchaseDate ProductCategory  Rating  \\\n",
       "0     123456789.0          837.31   10/12/2023           Books     3.0   \n",
       "1             NaN          900.25    2/23/2023             NaN     3.0   \n",
       "2             NaN          761.72     7/7/2023            Toys     2.0   \n",
       "3             NaN          303.72   12/30/2023             NaN     2.0   \n",
       "4     987654321.0          635.81    12/7/2023        Clothing     2.0   \n",
       "...           ...             ...          ...             ...     ...   \n",
       "2145  987654321.0          462.47     8/4/2023            Toys     5.0   \n",
       "2146          NaN          237.62    1/28/2024            Toys     5.0   \n",
       "2147          NaN          174.72    9/29/2024           Books     NaN   \n",
       "2148  987654321.0          250.47     2/5/2024             NaN     5.0   \n",
       "2149  123456789.0          891.41   10/13/2023        Clothing     3.0   \n",
       "\n",
       "      Unnamed   Gender    \n",
       "0         NaN        NaN  \n",
       "1         NaN     Female  \n",
       "2         NaN       male  \n",
       "3         NaN          F  \n",
       "4         NaN          M  \n",
       "...       ...        ...  \n",
       "2145      NaN       male  \n",
       "2146      NaN          M  \n",
       "2147      NaN          M  \n",
       "2148      NaN     Female  \n",
       "2149      NaN       male  \n",
       "\n",
       "[2150 rows x 12 columns]>"
      ]
     },
     "execution_count": 10,
     "metadata": {},
     "output_type": "execute_result"
    }
   ],
   "source": [
    "df.info"
   ]
  },
  {
   "cell_type": "code",
   "execution_count": 11,
   "id": "c92db8b9-1b0f-4388-847c-eb473ca1489f",
   "metadata": {},
   "outputs": [
    {
     "data": {
      "text/plain": [
       "np.int64(50)"
      ]
     },
     "execution_count": 11,
     "metadata": {},
     "output_type": "execute_result"
    }
   ],
   "source": [
    "df.duplicated().sum()"
   ]
  },
  {
   "cell_type": "code",
   "execution_count": 12,
   "id": "2b25f339-3b53-4e80-b92f-b12da3dfd199",
   "metadata": {},
   "outputs": [
    {
     "data": {
      "text/plain": [
       "CustomerID         2100\n",
       "Name                 48\n",
       "Age                  77\n",
       "Gender                6\n",
       "Email               144\n",
       "Phone                 2\n",
       "PurchaseAmount     1991\n",
       "PurchaseDate        860\n",
       "ProductCategory       5\n",
       "Rating                6\n",
       "Unnamed               0\n",
       "  Gender              6\n",
       "dtype: int64"
      ]
     },
     "execution_count": 12,
     "metadata": {},
     "output_type": "execute_result"
    }
   ],
   "source": [
    "df.nunique()"
   ]
  },
  {
   "cell_type": "code",
   "execution_count": 13,
   "id": "358dd42a-b307-444f-bbdf-ba6e519df155",
   "metadata": {},
   "outputs": [
    {
     "data": {
      "text/plain": [
       "CustomerID            0\n",
       "Name                  0\n",
       "Age                 520\n",
       "Gender              273\n",
       "Email                 0\n",
       "Phone              1078\n",
       "PurchaseAmount      101\n",
       "PurchaseDate          0\n",
       "ProductCategory     577\n",
       "Rating              329\n",
       "Unnamed            2150\n",
       "  Gender            273\n",
       "dtype: int64"
      ]
     },
     "execution_count": 13,
     "metadata": {},
     "output_type": "execute_result"
    }
   ],
   "source": [
    "df.isnull().sum()"
   ]
  },
  {
   "cell_type": "code",
   "execution_count": 18,
   "id": "9f38fd56-55f1-4069-ac05-79f8c5ed2e49",
   "metadata": {},
   "outputs": [
    {
     "data": {
      "text/html": [
       "<div>\n",
       "<style scoped>\n",
       "    .dataframe tbody tr th:only-of-type {\n",
       "        vertical-align: middle;\n",
       "    }\n",
       "\n",
       "    .dataframe tbody tr th {\n",
       "        vertical-align: top;\n",
       "    }\n",
       "\n",
       "    .dataframe thead th {\n",
       "        text-align: right;\n",
       "    }\n",
       "</style>\n",
       "<table border=\"1\" class=\"dataframe\">\n",
       "  <thead>\n",
       "    <tr style=\"text-align: right;\">\n",
       "      <th></th>\n",
       "      <th>Age</th>\n",
       "      <th>Phone</th>\n",
       "      <th>PurchaseAmount</th>\n",
       "      <th>Rating</th>\n",
       "      <th>Unnamed</th>\n",
       "    </tr>\n",
       "  </thead>\n",
       "  <tbody>\n",
       "    <tr>\n",
       "      <th>count</th>\n",
       "      <td>1630.000000</td>\n",
       "      <td>1.072000e+03</td>\n",
       "      <td>2049.000000</td>\n",
       "      <td>1821.000000</td>\n",
       "      <td>0.0</td>\n",
       "    </tr>\n",
       "    <tr>\n",
       "      <th>mean</th>\n",
       "      <td>26.880368</td>\n",
       "      <td>5.668417e+08</td>\n",
       "      <td>508.838111</td>\n",
       "      <td>4.183416</td>\n",
       "      <td>NaN</td>\n",
       "    </tr>\n",
       "    <tr>\n",
       "      <th>std</th>\n",
       "      <td>25.555843</td>\n",
       "      <td>4.321530e+08</td>\n",
       "      <td>289.049645</td>\n",
       "      <td>2.871300</td>\n",
       "      <td>NaN</td>\n",
       "    </tr>\n",
       "    <tr>\n",
       "      <th>min</th>\n",
       "      <td>-1.000000</td>\n",
       "      <td>1.234568e+08</td>\n",
       "      <td>5.060000</td>\n",
       "      <td>1.000000</td>\n",
       "      <td>NaN</td>\n",
       "    </tr>\n",
       "    <tr>\n",
       "      <th>25%</th>\n",
       "      <td>-1.000000</td>\n",
       "      <td>1.234568e+08</td>\n",
       "      <td>263.680000</td>\n",
       "      <td>2.000000</td>\n",
       "      <td>NaN</td>\n",
       "    </tr>\n",
       "    <tr>\n",
       "      <th>50%</th>\n",
       "      <td>30.000000</td>\n",
       "      <td>9.876543e+08</td>\n",
       "      <td>519.250000</td>\n",
       "      <td>3.000000</td>\n",
       "      <td>NaN</td>\n",
       "    </tr>\n",
       "    <tr>\n",
       "      <th>75%</th>\n",
       "      <td>32.000000</td>\n",
       "      <td>9.876543e+08</td>\n",
       "      <td>762.910000</td>\n",
       "      <td>5.000000</td>\n",
       "      <td>NaN</td>\n",
       "    </tr>\n",
       "    <tr>\n",
       "      <th>max</th>\n",
       "      <td>90.000000</td>\n",
       "      <td>9.876543e+08</td>\n",
       "      <td>999.560000</td>\n",
       "      <td>10.000000</td>\n",
       "      <td>NaN</td>\n",
       "    </tr>\n",
       "  </tbody>\n",
       "</table>\n",
       "</div>"
      ],
      "text/plain": [
       "               Age         Phone  PurchaseAmount       Rating  Unnamed\n",
       "count  1630.000000  1.072000e+03     2049.000000  1821.000000      0.0\n",
       "mean     26.880368  5.668417e+08      508.838111     4.183416      NaN\n",
       "std      25.555843  4.321530e+08      289.049645     2.871300      NaN\n",
       "min      -1.000000  1.234568e+08        5.060000     1.000000      NaN\n",
       "25%      -1.000000  1.234568e+08      263.680000     2.000000      NaN\n",
       "50%      30.000000  9.876543e+08      519.250000     3.000000      NaN\n",
       "75%      32.000000  9.876543e+08      762.910000     5.000000      NaN\n",
       "max      90.000000  9.876543e+08      999.560000    10.000000      NaN"
      ]
     },
     "execution_count": 18,
     "metadata": {},
     "output_type": "execute_result"
    }
   ],
   "source": [
    "df.describe()"
   ]
  },
  {
   "cell_type": "markdown",
   "id": "ab1b083c-63a1-41e4-8028-68d3142d2bde",
   "metadata": {},
   "source": [
    "عرض البيانات"
   ]
  },
  {
   "cell_type": "code",
   "execution_count": 28,
   "id": "693b670d-b8d9-4cfa-b45c-eba63e498580",
   "metadata": {},
   "outputs": [],
   "source": [
    "df = df.drop(columns=[\"Unnamed\", \"Gender\"])"
   ]
  },
  {
   "cell_type": "code",
   "execution_count": 37,
   "id": "6e2e5b1b-5c9f-453c-836f-5aa36b5b20fd",
   "metadata": {},
   "outputs": [
    {
     "data": {
      "text/html": [
       "<div>\n",
       "<style scoped>\n",
       "    .dataframe tbody tr th:only-of-type {\n",
       "        vertical-align: middle;\n",
       "    }\n",
       "\n",
       "    .dataframe tbody tr th {\n",
       "        vertical-align: top;\n",
       "    }\n",
       "\n",
       "    .dataframe thead th {\n",
       "        text-align: right;\n",
       "    }\n",
       "</style>\n",
       "<table border=\"1\" class=\"dataframe\">\n",
       "  <thead>\n",
       "    <tr style=\"text-align: right;\">\n",
       "      <th></th>\n",
       "      <th>CustomerID</th>\n",
       "      <th>Name</th>\n",
       "      <th>Age</th>\n",
       "      <th>Email</th>\n",
       "      <th>Phone</th>\n",
       "      <th>PurchaseAmount</th>\n",
       "      <th>PurchaseDate</th>\n",
       "      <th>ProductCategory</th>\n",
       "      <th>Rating</th>\n",
       "      <th>Gender</th>\n",
       "    </tr>\n",
       "  </thead>\n",
       "  <tbody>\n",
       "    <tr>\n",
       "      <th>0</th>\n",
       "      <td>CUST1000</td>\n",
       "      <td>Ali Hassan</td>\n",
       "      <td>72.0</td>\n",
       "      <td>ali.hassan@gmail.com</td>\n",
       "      <td>123456789.0</td>\n",
       "      <td>837.31</td>\n",
       "      <td>10/12/2023</td>\n",
       "      <td>Books</td>\n",
       "      <td>3.0</td>\n",
       "      <td>NaN</td>\n",
       "    </tr>\n",
       "    <tr>\n",
       "      <th>1</th>\n",
       "      <td>CUST1001</td>\n",
       "      <td>Fatma Ali</td>\n",
       "      <td>NaN</td>\n",
       "      <td>fatma.ali@hotmail.com</td>\n",
       "      <td>NaN</td>\n",
       "      <td>900.25</td>\n",
       "      <td>2/23/2023</td>\n",
       "      <td>NaN</td>\n",
       "      <td>3.0</td>\n",
       "      <td>Female</td>\n",
       "    </tr>\n",
       "    <tr>\n",
       "      <th>2</th>\n",
       "      <td>CUST1002</td>\n",
       "      <td>Ahmed Mahmoud</td>\n",
       "      <td>-1.0</td>\n",
       "      <td>ahmed.mahmoud@hotmail.com</td>\n",
       "      <td>NaN</td>\n",
       "      <td>761.72</td>\n",
       "      <td>7/7/2023</td>\n",
       "      <td>Toys</td>\n",
       "      <td>2.0</td>\n",
       "      <td>male</td>\n",
       "    </tr>\n",
       "    <tr>\n",
       "      <th>3</th>\n",
       "      <td>CUST1003</td>\n",
       "      <td>Ahmed Gaber</td>\n",
       "      <td>-1.0</td>\n",
       "      <td>ahmed.gaber@gmail.com</td>\n",
       "      <td>NaN</td>\n",
       "      <td>303.72</td>\n",
       "      <td>12/30/2023</td>\n",
       "      <td>NaN</td>\n",
       "      <td>2.0</td>\n",
       "      <td>F</td>\n",
       "    </tr>\n",
       "    <tr>\n",
       "      <th>4</th>\n",
       "      <td>CUST1004</td>\n",
       "      <td>Ali Ibrahim</td>\n",
       "      <td>73.0</td>\n",
       "      <td>ali.ibrahim@yahoo.com</td>\n",
       "      <td>987654321.0</td>\n",
       "      <td>635.81</td>\n",
       "      <td>12/7/2023</td>\n",
       "      <td>Clothing</td>\n",
       "      <td>2.0</td>\n",
       "      <td>M</td>\n",
       "    </tr>\n",
       "  </tbody>\n",
       "</table>\n",
       "</div>"
      ],
      "text/plain": [
       "  CustomerID           Name   Age                      Email        Phone  \\\n",
       "0   CUST1000     Ali Hassan  72.0       ali.hassan@gmail.com  123456789.0   \n",
       "1   CUST1001      Fatma Ali   NaN      fatma.ali@hotmail.com          NaN   \n",
       "2   CUST1002  Ahmed Mahmoud  -1.0  ahmed.mahmoud@hotmail.com          NaN   \n",
       "3   CUST1003    Ahmed Gaber  -1.0      ahmed.gaber@gmail.com          NaN   \n",
       "4   CUST1004    Ali Ibrahim  73.0      ali.ibrahim@yahoo.com  987654321.0   \n",
       "\n",
       "   PurchaseAmount PurchaseDate ProductCategory  Rating   Gender    \n",
       "0          837.31   10/12/2023           Books     3.0        NaN  \n",
       "1          900.25    2/23/2023             NaN     3.0     Female  \n",
       "2          761.72     7/7/2023            Toys     2.0       male  \n",
       "3          303.72   12/30/2023             NaN     2.0          F  \n",
       "4          635.81    12/7/2023        Clothing     2.0          M  "
      ]
     },
     "execution_count": 37,
     "metadata": {},
     "output_type": "execute_result"
    }
   ],
   "source": [
    "df.head()"
   ]
  },
  {
   "cell_type": "code",
   "execution_count": 30,
   "id": "8ccd739c-caf6-496c-9da1-6d803869b405",
   "metadata": {},
   "outputs": [],
   "source": [
    "df =df.drop_duplicates()"
   ]
  },
  {
   "cell_type": "code",
   "execution_count": 31,
   "id": "7afa2fcf-8e55-4990-afaa-b37bc62facef",
   "metadata": {},
   "outputs": [
    {
     "data": {
      "text/plain": [
       "(2100, 10)"
      ]
     },
     "execution_count": 31,
     "metadata": {},
     "output_type": "execute_result"
    }
   ],
   "source": [
    "df.shape"
   ]
  },
  {
   "cell_type": "code",
   "execution_count": 40,
   "id": "aedd2e66-e66c-4bfe-9e0d-4f2dd8dea619",
   "metadata": {},
   "outputs": [
    {
     "data": {
      "text/plain": [
       "array([nan, 'Female', 'male', 'F', 'M', 'female', 'Male'], dtype=object)"
      ]
     },
     "execution_count": 40,
     "metadata": {},
     "output_type": "execute_result"
    }
   ],
   "source": [
    "df['  Gender  '].unique()"
   ]
  },
  {
   "cell_type": "code",
   "execution_count": 41,
   "id": "3adc9197-0475-4bd3-a0dd-9cdac9ecd4fd",
   "metadata": {},
   "outputs": [],
   "source": [
    "df['  Gender  ']=df['  Gender  '].str.lower()"
   ]
  },
  {
   "cell_type": "code",
   "execution_count": 42,
   "id": "d8538035-3759-4644-a9af-a435e085f214",
   "metadata": {},
   "outputs": [],
   "source": [
    "df['  Gender  ']=df['  Gender  '].replace({'m':'male','f':'female'})"
   ]
  },
  {
   "cell_type": "code",
   "execution_count": 43,
   "id": "ecd7a2e2-4bc9-417b-b8cc-1f3c68120605",
   "metadata": {},
   "outputs": [],
   "source": [
    "df['  Gender  ']=df['  Gender  '].fillna('male')"
   ]
  },
  {
   "cell_type": "code",
   "execution_count": 45,
   "id": "43e1b40e-fb35-4c72-a768-778171f5ed8a",
   "metadata": {},
   "outputs": [],
   "source": [
    "df['Age']=df['Age'].fillna(df['Age'].mean())"
   ]
  },
  {
   "cell_type": "code",
   "execution_count": 46,
   "id": "9cdbcbfd-5a20-4d40-9bab-0db3c7ec5aab",
   "metadata": {},
   "outputs": [
    {
     "data": {
      "text/plain": [
       "Index(['CustomerID', 'Name', 'Age', 'Email', 'Phone', 'PurchaseAmount',\n",
       "       'PurchaseDate', 'ProductCategory', 'Rating', '  Gender  '],\n",
       "      dtype='object')"
      ]
     },
     "execution_count": 46,
     "metadata": {},
     "output_type": "execute_result"
    }
   ],
   "source": [
    "df.columns"
   ]
  },
  {
   "cell_type": "code",
   "execution_count": 47,
   "id": "8155b05d-49df-40b5-b0bc-cce1e68f4378",
   "metadata": {},
   "outputs": [],
   "source": [
    "df['ProductCategory']=df['ProductCategory'].fillna('Unknown')"
   ]
  },
  {
   "cell_type": "code",
   "execution_count": 48,
   "id": "7401f721-079c-4bb5-ac00-50beb951fb8b",
   "metadata": {},
   "outputs": [],
   "source": [
    "df['Age']=df['Age'].apply(lambda x:df['Age'].mean()if x<0 else x)"
   ]
  },
  {
   "cell_type": "code",
   "execution_count": 50,
   "id": "0edaf82c-508a-44f7-bdb9-8cbc6058498a",
   "metadata": {},
   "outputs": [
    {
     "data": {
      "text/html": [
       "<div>\n",
       "<style scoped>\n",
       "    .dataframe tbody tr th:only-of-type {\n",
       "        vertical-align: middle;\n",
       "    }\n",
       "\n",
       "    .dataframe tbody tr th {\n",
       "        vertical-align: top;\n",
       "    }\n",
       "\n",
       "    .dataframe thead th {\n",
       "        text-align: right;\n",
       "    }\n",
       "</style>\n",
       "<table border=\"1\" class=\"dataframe\">\n",
       "  <thead>\n",
       "    <tr style=\"text-align: right;\">\n",
       "      <th></th>\n",
       "      <th>CustomerID</th>\n",
       "      <th>Name</th>\n",
       "      <th>Age</th>\n",
       "      <th>Email</th>\n",
       "      <th>Phone</th>\n",
       "      <th>PurchaseAmount</th>\n",
       "      <th>PurchaseDate</th>\n",
       "      <th>ProductCategory</th>\n",
       "      <th>Rating</th>\n",
       "      <th>Gender</th>\n",
       "    </tr>\n",
       "  </thead>\n",
       "  <tbody>\n",
       "    <tr>\n",
       "      <th>687</th>\n",
       "      <td>CUST1687</td>\n",
       "      <td>Alaa Ibrahim</td>\n",
       "      <td>30.000000</td>\n",
       "      <td>alaa.ibrahim@yahoo.com</td>\n",
       "      <td>123456789.0</td>\n",
       "      <td>999.56</td>\n",
       "      <td>5/16/2025</td>\n",
       "      <td>Electronics</td>\n",
       "      <td>1.0</td>\n",
       "      <td>female</td>\n",
       "    </tr>\n",
       "    <tr>\n",
       "      <th>1949</th>\n",
       "      <td>CUST2949</td>\n",
       "      <td>Fatma Mahmoud</td>\n",
       "      <td>63.000000</td>\n",
       "      <td>fatma.mahmoud@yahoo.com</td>\n",
       "      <td>NaN</td>\n",
       "      <td>999.30</td>\n",
       "      <td>4/10/2024</td>\n",
       "      <td>Clothing</td>\n",
       "      <td>3.0</td>\n",
       "      <td>female</td>\n",
       "    </tr>\n",
       "    <tr>\n",
       "      <th>424</th>\n",
       "      <td>CUST1424</td>\n",
       "      <td>John Ali</td>\n",
       "      <td>80.000000</td>\n",
       "      <td>john.ali@gmail.com</td>\n",
       "      <td>987654321.0</td>\n",
       "      <td>999.23</td>\n",
       "      <td>6/30/2024</td>\n",
       "      <td>Toys</td>\n",
       "      <td>5.0</td>\n",
       "      <td>male</td>\n",
       "    </tr>\n",
       "    <tr>\n",
       "      <th>1832</th>\n",
       "      <td>CUST2832</td>\n",
       "      <td>John Ali</td>\n",
       "      <td>49.000000</td>\n",
       "      <td>john.ali@yahoo.com</td>\n",
       "      <td>NaN</td>\n",
       "      <td>999.00</td>\n",
       "      <td>10/10/2024</td>\n",
       "      <td>Toys</td>\n",
       "      <td>1.0</td>\n",
       "      <td>male</td>\n",
       "    </tr>\n",
       "    <tr>\n",
       "      <th>1961</th>\n",
       "      <td>CUST2961</td>\n",
       "      <td>Mark Mahmoud</td>\n",
       "      <td>26.813676</td>\n",
       "      <td>mark.mahmoud@yahoo.com</td>\n",
       "      <td>NaN</td>\n",
       "      <td>998.59</td>\n",
       "      <td>4/25/2025</td>\n",
       "      <td>Electronics</td>\n",
       "      <td>2.0</td>\n",
       "      <td>male</td>\n",
       "    </tr>\n",
       "    <tr>\n",
       "      <th>631</th>\n",
       "      <td>CUST1631</td>\n",
       "      <td>Lina Mahmoud</td>\n",
       "      <td>18.000000</td>\n",
       "      <td>lina.mahmoud@gmail.com</td>\n",
       "      <td>NaN</td>\n",
       "      <td>998.16</td>\n",
       "      <td>10/9/2023</td>\n",
       "      <td>Books</td>\n",
       "      <td>5.0</td>\n",
       "      <td>female</td>\n",
       "    </tr>\n",
       "    <tr>\n",
       "      <th>386</th>\n",
       "      <td>CUST1386</td>\n",
       "      <td>Fatma Ali</td>\n",
       "      <td>30.000000</td>\n",
       "      <td>fatma.ali@hotmail.com</td>\n",
       "      <td>123456789.0</td>\n",
       "      <td>995.55</td>\n",
       "      <td>11/12/2022</td>\n",
       "      <td>Clothing</td>\n",
       "      <td>4.0</td>\n",
       "      <td>female</td>\n",
       "    </tr>\n",
       "    <tr>\n",
       "      <th>335</th>\n",
       "      <td>CUST1335</td>\n",
       "      <td>Alaa Mahmoud</td>\n",
       "      <td>26.813676</td>\n",
       "      <td>alaa.mahmoud@yahoo.com</td>\n",
       "      <td>123456789.0</td>\n",
       "      <td>995.41</td>\n",
       "      <td>2/11/2024</td>\n",
       "      <td>Toys</td>\n",
       "      <td>3.0</td>\n",
       "      <td>female</td>\n",
       "    </tr>\n",
       "    <tr>\n",
       "      <th>908</th>\n",
       "      <td>CUST1908</td>\n",
       "      <td>Sara Ali</td>\n",
       "      <td>26.813676</td>\n",
       "      <td>sara.ali@yahoo.com</td>\n",
       "      <td>NaN</td>\n",
       "      <td>995.32</td>\n",
       "      <td>9/4/2023</td>\n",
       "      <td>Clothing</td>\n",
       "      <td>1.0</td>\n",
       "      <td>female</td>\n",
       "    </tr>\n",
       "    <tr>\n",
       "      <th>1708</th>\n",
       "      <td>CUST2708</td>\n",
       "      <td>Sara Hassan</td>\n",
       "      <td>26.813676</td>\n",
       "      <td>sara.hassan@yahoo.com</td>\n",
       "      <td>NaN</td>\n",
       "      <td>995.25</td>\n",
       "      <td>5/17/2023</td>\n",
       "      <td>Electronics</td>\n",
       "      <td>NaN</td>\n",
       "      <td>female</td>\n",
       "    </tr>\n",
       "  </tbody>\n",
       "</table>\n",
       "</div>"
      ],
      "text/plain": [
       "     CustomerID           Name        Age                    Email  \\\n",
       "687    CUST1687   Alaa Ibrahim  30.000000   alaa.ibrahim@yahoo.com   \n",
       "1949   CUST2949  Fatma Mahmoud  63.000000  fatma.mahmoud@yahoo.com   \n",
       "424    CUST1424       John Ali  80.000000       john.ali@gmail.com   \n",
       "1832   CUST2832       John Ali  49.000000       john.ali@yahoo.com   \n",
       "1961   CUST2961   Mark Mahmoud  26.813676   mark.mahmoud@yahoo.com   \n",
       "631    CUST1631   Lina Mahmoud  18.000000   lina.mahmoud@gmail.com   \n",
       "386    CUST1386      Fatma Ali  30.000000    fatma.ali@hotmail.com   \n",
       "335    CUST1335   Alaa Mahmoud  26.813676   alaa.mahmoud@yahoo.com   \n",
       "908    CUST1908       Sara Ali  26.813676       sara.ali@yahoo.com   \n",
       "1708   CUST2708    Sara Hassan  26.813676    sara.hassan@yahoo.com   \n",
       "\n",
       "            Phone  PurchaseAmount PurchaseDate ProductCategory  Rating  \\\n",
       "687   123456789.0          999.56    5/16/2025     Electronics     1.0   \n",
       "1949          NaN          999.30    4/10/2024        Clothing     3.0   \n",
       "424   987654321.0          999.23    6/30/2024            Toys     5.0   \n",
       "1832          NaN          999.00   10/10/2024            Toys     1.0   \n",
       "1961          NaN          998.59    4/25/2025     Electronics     2.0   \n",
       "631           NaN          998.16    10/9/2023           Books     5.0   \n",
       "386   123456789.0          995.55   11/12/2022        Clothing     4.0   \n",
       "335   123456789.0          995.41    2/11/2024            Toys     3.0   \n",
       "908           NaN          995.32     9/4/2023        Clothing     1.0   \n",
       "1708          NaN          995.25    5/17/2023     Electronics     NaN   \n",
       "\n",
       "       Gender    \n",
       "687      female  \n",
       "1949     female  \n",
       "424        male  \n",
       "1832       male  \n",
       "1961       male  \n",
       "631      female  \n",
       "386      female  \n",
       "335      female  \n",
       "908      female  \n",
       "1708     female  "
      ]
     },
     "execution_count": 50,
     "metadata": {},
     "output_type": "execute_result"
    }
   ],
   "source": [
    "df.sort_values(by=['PurchaseAmount','Rating'],ascending=False).head(10)"
   ]
  },
  {
   "cell_type": "code",
   "execution_count": 51,
   "id": "9ef611f6-9555-4fa3-9732-927429795d57",
   "metadata": {},
   "outputs": [
    {
     "data": {
      "text/plain": [
       "ProductCategory\n",
       "Unknown        565\n",
       "Clothing       323\n",
       "Electronics    323\n",
       "Books          305\n",
       "Home           296\n",
       "Toys           288\n",
       "Name: count, dtype: int64"
      ]
     },
     "execution_count": 51,
     "metadata": {},
     "output_type": "execute_result"
    }
   ],
   "source": [
    "df['ProductCategory'].value_counts()"
   ]
  },
  {
   "cell_type": "code",
   "execution_count": 52,
   "id": "8d5736ba-a143-4059-8340-98d12f102e68",
   "metadata": {},
   "outputs": [
    {
     "data": {
      "text/plain": [
       "Rating\n",
       "1.0     266\n",
       "2.0     310\n",
       "3.0     326\n",
       "4.0     278\n",
       "5.0     307\n",
       "10.0    291\n",
       "Name: count, dtype: int64"
      ]
     },
     "execution_count": 52,
     "metadata": {},
     "output_type": "execute_result"
    }
   ],
   "source": [
    "df['Rating'].value_counts().sort_index()"
   ]
  },
  {
   "cell_type": "code",
   "execution_count": 53,
   "id": "88ce7e4a-0685-412a-a3df-95ff450061bf",
   "metadata": {},
   "outputs": [],
   "source": [
    "gender_counts=df['  Gender  '].value_counts()"
   ]
  },
  {
   "cell_type": "code",
   "execution_count": 55,
   "id": "ce00396b-d967-4795-a004-10123e46a750",
   "metadata": {},
   "outputs": [
    {
     "data": {
      "image/png": "[encoded data removed]",
      "text/plain": [
       "<Figure size 1000x300 with 1 Axes>"
      ]
     },
     "metadata": {},
     "output_type": "display_data"
    }
   ],
   "source": [
    "plt.figure(figsize=(10,3))\n",
    "plt.pie(gender_counts, labels=gender_counts.index, autopct='%1.1f%%', startangle=120)\n",
    "plt.axis('equal')\n",
    "plt.title('Destribution By Gender')\n",
    "plt.show()"
   ]
  },
  {
   "cell_type": "code",
   "execution_count": 57,
   "id": "5d220d20-2d88-4a8a-b106-3cc91c5f7074",
   "metadata": {},
   "outputs": [
    {
     "data": {
      "image/png": "[encoded data removed]",
      "text/plain": [
       "<Figure size 640x480 with 1 Axes>"
      ]
     },
     "metadata": {},
     "output_type": "display_data"
    }
   ],
   "source": [
    "sns.histplot(df['Age'],bins=25,kde=True)\n",
    "plt.title('Destrbution By Age')\n",
    "plt.show()\n"
   ]
  },
  {
   "cell_type": "code",
   "execution_count": null,
   "id": "1ec91ce7-db3d-40bf-b555-aa5052605a18",
   "metadata": {},
   "outputs": [],
   "source": []
  }
 ],
 "metadata": {
  "kernelspec": {
   "display_name": "Python 3 (ipykernel)",
   "language": "python",
   "name": "python3"
  },
  "language_info": {
   "codemirror_mode": {
    "name": "ipython",
    "version": 3
   },
   "file_extension": ".py",
   "mimetype": "text/x-python",
   "name": "python",
   "nbconvert_exporter": "python",
   "pygments_lexer": "ipython3",
   "version": "3.13.7"
  }
 },
 "nbformat": 4,
 "nbformat_minor": 5
}
